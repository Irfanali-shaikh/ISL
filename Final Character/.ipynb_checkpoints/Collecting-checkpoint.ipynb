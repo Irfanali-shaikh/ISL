{
 "cells": [
  {
   "cell_type": "code",
   "execution_count": 1,
   "id": "8929fd3a",
   "metadata": {},
   "outputs": [],
   "source": [
    "import os\n",
    "import cv2\n",
    "import matplotlib.pyplot as plt\n",
    "import numpy as np\n",
    "import os\n",
    "import time\n",
    "import mediapipe as mp\n",
    "from sklearn.model_selection import train_test_split\n",
    "from tensorflow.keras.utils import to_categorical\n",
    "from preprocess import mediapipe_detection,landmarks"
   ]
  },
  {
   "cell_type": "code",
   "execution_count": 2,
   "id": "b118f3b2",
   "metadata": {},
   "outputs": [],
   "source": [
    "mp_holistic = mp.solutions.holistic\n",
    "mp_drawing = mp.solutions.drawing_utils"
   ]
  },
  {
   "cell_type": "code",
   "execution_count": 3,
   "id": "7beed685",
   "metadata": {},
   "outputs": [],
   "source": [
    "def draw_styled_landmarks(image,results):\n",
    "    mp_drawing.draw_landmarks(image, results.left_hand_landmarks, mp_holistic.HAND_CONNECTIONS,\n",
    "                             mp_drawing.DrawingSpec(color = (121,22,76), thickness = 2, circle_radius = 4),\n",
    "                             mp_drawing.DrawingSpec(color = (121,44,250), thickness = 2, circle_radius = 2))\n",
    "    \n",
    "    mp_drawing.draw_landmarks(image, results.right_hand_landmarks, mp_holistic.HAND_CONNECTIONS,\n",
    "                             mp_drawing.DrawingSpec(color = (245,117,66), thickness = 2, circle_radius = 4),\n",
    "                             mp_drawing.DrawingSpec(color = (245,66,230), thickness = 2, circle_radius = 2))\n",
    "\n",
    "def extract_keypoints(results):\n",
    "    left_hand = np.array([[res.x,res.y,res.z] for res in results.left_hand_landmarks.landmark] ).flatten() if results.left_hand_landmarks else np.zeros(63)\n",
    "    right_hand = np.array(([[res.x,res.y,res.z] for res in results.right_hand_landmarks.landmark] )).flatten() if results.right_hand_landmarks else np.zeros(63)\n",
    "    return np.concatenate([left_hand,right_hand])"
   ]
  },
  {
   "cell_type": "code",
   "execution_count": 5,
   "id": "234ad6dd",
   "metadata": {},
   "outputs": [],
   "source": [
    "try:\n",
    "    ax = os.listdir(os.getcwd()+'\\\\ppt\\\\')\n",
    "except:\n",
    "    os.mkdir('ppt')\n",
    "actions = []\n",
    "label_map = {}\n",
    "path = r'E:\\M.Tech\\Dissertation Stage 2 - Final\\Experimental\\Final Character\\ppt'"
   ]
  },
  {
   "cell_type": "code",
   "execution_count": 6,
   "id": "efaea718",
   "metadata": {},
   "outputs": [],
   "source": [
    "DATA_PATH = path\n",
    "\n",
    "#no_sequences = 20 #number of videos\n",
    "sequence_length  = 1000  #number of frames per video"
   ]
  },
  {
   "cell_type": "code",
   "execution_count": 7,
   "id": "69c1a344",
   "metadata": {},
   "outputs": [
    {
     "name": "stdout",
     "output_type": "stream",
     "text": [
      "Enter Action Name A\n"
     ]
    }
   ],
   "source": [
    "actions = [input(\"Enter Action Name \")]"
   ]
  },
  {
   "cell_type": "code",
   "execution_count": 8,
   "id": "e4513d4a",
   "metadata": {},
   "outputs": [
    {
     "name": "stdout",
     "output_type": "stream",
     "text": [
      "<class 'mediapipe.python.solution_base.SolutionOutputs'>\n"
     ]
    },
    {
     "ename": "FileNotFoundError",
     "evalue": "[Errno 2] No such file or directory: 'E:\\\\M.Tech\\\\Dissertation Stage 2 - Final\\\\Experimental\\\\Final Character\\\\ppt\\\\A\\\\0.npy'",
     "output_type": "error",
     "traceback": [
      "\u001b[1;31m---------------------------------------------------------------------------\u001b[0m",
      "\u001b[1;31mFileNotFoundError\u001b[0m                         Traceback (most recent call last)",
      "Cell \u001b[1;32mIn[8], line 27\u001b[0m\n\u001b[0;32m     25\u001b[0m keypoints \u001b[38;5;241m=\u001b[39m extract_keypoints(results)\n\u001b[0;32m     26\u001b[0m np_path \u001b[38;5;241m=\u001b[39m os\u001b[38;5;241m.\u001b[39mpath\u001b[38;5;241m.\u001b[39mjoin(DATA_PATH,action,\u001b[38;5;28mstr\u001b[39m(frame_num))\n\u001b[1;32m---> 27\u001b[0m \u001b[43mnp\u001b[49m\u001b[38;5;241;43m.\u001b[39;49m\u001b[43msave\u001b[49m\u001b[43m(\u001b[49m\u001b[43mnp_path\u001b[49m\u001b[43m,\u001b[49m\u001b[43mkeypoints\u001b[49m\u001b[43m)\u001b[49m\n\u001b[0;32m     30\u001b[0m \u001b[38;5;28;01mif\u001b[39;00m cv2\u001b[38;5;241m.\u001b[39mwaitKey(\u001b[38;5;241m10\u001b[39m) \u001b[38;5;241m&\u001b[39m \u001b[38;5;241m0xFF\u001b[39m \u001b[38;5;241m==\u001b[39m \u001b[38;5;28mord\u001b[39m(\u001b[38;5;124m'\u001b[39m\u001b[38;5;124mq\u001b[39m\u001b[38;5;124m'\u001b[39m):\n\u001b[0;32m     31\u001b[0m     \u001b[38;5;28;01mbreak\u001b[39;00m\n",
      "File \u001b[1;32m<__array_function__ internals>:180\u001b[0m, in \u001b[0;36msave\u001b[1;34m(*args, **kwargs)\u001b[0m\n",
      "File \u001b[1;32mE:\\Anaconda3\\envs\\ISL\\lib\\site-packages\\numpy\\lib\\npyio.py:518\u001b[0m, in \u001b[0;36msave\u001b[1;34m(file, arr, allow_pickle, fix_imports)\u001b[0m\n\u001b[0;32m    516\u001b[0m     \u001b[38;5;28;01mif\u001b[39;00m \u001b[38;5;129;01mnot\u001b[39;00m file\u001b[38;5;241m.\u001b[39mendswith(\u001b[38;5;124m'\u001b[39m\u001b[38;5;124m.npy\u001b[39m\u001b[38;5;124m'\u001b[39m):\n\u001b[0;32m    517\u001b[0m         file \u001b[38;5;241m=\u001b[39m file \u001b[38;5;241m+\u001b[39m \u001b[38;5;124m'\u001b[39m\u001b[38;5;124m.npy\u001b[39m\u001b[38;5;124m'\u001b[39m\n\u001b[1;32m--> 518\u001b[0m     file_ctx \u001b[38;5;241m=\u001b[39m \u001b[38;5;28;43mopen\u001b[39;49m\u001b[43m(\u001b[49m\u001b[43mfile\u001b[49m\u001b[43m,\u001b[49m\u001b[43m \u001b[49m\u001b[38;5;124;43m\"\u001b[39;49m\u001b[38;5;124;43mwb\u001b[39;49m\u001b[38;5;124;43m\"\u001b[39;49m\u001b[43m)\u001b[49m\n\u001b[0;32m    520\u001b[0m \u001b[38;5;28;01mwith\u001b[39;00m file_ctx \u001b[38;5;28;01mas\u001b[39;00m fid:\n\u001b[0;32m    521\u001b[0m     arr \u001b[38;5;241m=\u001b[39m np\u001b[38;5;241m.\u001b[39masanyarray(arr)\n",
      "\u001b[1;31mFileNotFoundError\u001b[0m: [Errno 2] No such file or directory: 'E:\\\\M.Tech\\\\Dissertation Stage 2 - Final\\\\Experimental\\\\Final Character\\\\ppt\\\\A\\\\0.npy'"
     ]
    }
   ],
   "source": [
    "cap = cv2.VideoCapture(0)\n",
    "with mp_holistic.Holistic(min_detection_confidence = 0.5, min_tracking_confidence = 0.4) as holistic:\n",
    "    \n",
    "    for action in actions: \n",
    "        for frame_num in range(sequence_length):\n",
    "\n",
    "            _,frame = cap.read()\n",
    "            image,results = mediapipe_detection(frame,holistic)\n",
    "            draw_styled_landmarks(image,results)\n",
    "\n",
    "            if frame_num == 0:\n",
    "                cv2.putText(image,'Starting Collection',(120,120),\n",
    "                           cv2.FONT_HERSHEY_SIMPLEX, 0.5,(0,0,255),\n",
    "                           1,cv2.LINE_AA)\n",
    "                #cv2.putText(image,'Collecting {} video number {}'.format(action,sequence),\n",
    "                            #(15,12),cv2.FONT_HERSHEY_SIMPLEX, 0.5,(0,0,255),1,cv2.LINE_AA)\n",
    "                cv2.imshow(\"sign_videos\",image)\n",
    "                cv2.waitKey(2000)\n",
    "            else:\n",
    "                cv2.putText(image,'Collecting {} frame number {}'.format(action,frame_num),(15,12),cv2.FONT_HERSHEY_SIMPLEX, 0.5,(0,0,255),\n",
    "                           1,cv2.LINE_AA)\n",
    "                cv2.imshow(\"sign_videos\",image)\n",
    "            cv2.imwrite(path+'\\\\'+str(frame_num)+\".jpg\",image)\n",
    "            print(results)\n",
    "            keypoints = extract_keypoints(results)\n",
    "            #np_path = os.path.join(DATA_PATH,action,str(frame_num))\n",
    "            #np.save(np_path,keypoints)\n",
    "\n",
    "\n",
    "            if cv2.waitKey(10) & 0xFF == ord('q'):\n",
    "                break\n",
    "\n",
    "    cap.release()\n",
    "    cv2.destroyAllWindows()"
   ]
  },
  {
   "cell_type": "code",
   "execution_count": null,
   "id": "ac0eba8a",
   "metadata": {},
   "outputs": [],
   "source": []
  },
  {
   "cell_type": "code",
   "execution_count": null,
   "id": "800da162",
   "metadata": {},
   "outputs": [],
   "source": []
  }
 ],
 "metadata": {
  "kernelspec": {
   "display_name": "Python 3 (ipykernel)",
   "language": "python",
   "name": "python3"
  },
  "language_info": {
   "codemirror_mode": {
    "name": "ipython",
    "version": 3
   },
   "file_extension": ".py",
   "mimetype": "text/x-python",
   "name": "python",
   "nbconvert_exporter": "python",
   "pygments_lexer": "ipython3",
   "version": "3.8.12"
  }
 },
 "nbformat": 4,
 "nbformat_minor": 5
}
