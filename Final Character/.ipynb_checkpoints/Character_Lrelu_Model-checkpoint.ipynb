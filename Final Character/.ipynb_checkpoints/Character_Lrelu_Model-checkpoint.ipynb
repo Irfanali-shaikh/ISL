{
 "cells": [
  {
   "cell_type": "markdown",
   "id": "fd0369a1",
   "metadata": {},
   "source": [
    "# Importing Libraries"
   ]
  },
  {
   "cell_type": "code",
   "execution_count": 1,
   "id": "d97f21d3",
   "metadata": {},
   "outputs": [],
   "source": [
    "import os\n",
    "import cv2\n",
    "import matplotlib.pyplot as plt\n",
    "import numpy as np\n",
    "import os\n",
    "import time\n",
    "import mediapipe as mp\n",
    "from sklearn.model_selection import train_test_split\n",
    "from tensorflow.keras.utils import to_categorical"
   ]
  },
  {
   "cell_type": "code",
   "execution_count": 2,
   "id": "26384f28",
   "metadata": {},
   "outputs": [],
   "source": [
    "from tensorflow.keras.models import Sequential\n",
    "from tensorflow.keras.layers import LSTM,Dense,GRU,Dropout\n",
    "from tensorflow.keras.callbacks import TensorBoard\n",
    "from tensorflow import keras\n",
    "from sklearn.metrics import multilabel_confusion_matrix, accuracy_score\n",
    "from sklearn.metrics import confusion_matrix\n",
    "import seaborn as sns\n",
    "from sklearn.metrics import plot_confusion_matrix\n",
    "from sklearn.metrics import confusion_matrix"
   ]
  },
  {
   "cell_type": "markdown",
   "id": "3e2f84c7",
   "metadata": {},
   "source": [
    "# Path and Pre-Processing"
   ]
  },
  {
   "cell_type": "code",
   "execution_count": 3,
   "id": "17c5ab3c",
   "metadata": {},
   "outputs": [],
   "source": [
    "DATA_PATH_train = os.path.join(r'E:\\M.Tech\\Dissertation Stage 2 - Final\\Experimental\\Final Character\\Alpha_train')\n",
    "DATA_PATH_test = os.path.join(r'E:\\M.Tech\\Dissertation Stage 2 - Final\\Experimental\\Final Character\\Alpha_test')\n",
    "#no_sequences = 50 #number of videos\n",
    "sequence_length = 1000     #number of frames per video"
   ]
  },
  {
   "cell_type": "code",
   "execution_count": 4,
   "id": "800b4d20",
   "metadata": {},
   "outputs": [],
   "source": [
    "ax_train = os.listdir(r'E:\\M.Tech\\Dissertation Stage 2 - Final\\Experimental\\Final Character\\Alpha_train')\n",
    "actions_train = []\n",
    "label_map_train = {}\n",
    "ax_test = os.listdir(r'E:\\M.Tech\\Dissertation Stage 2 - Final\\Experimental\\Final Character\\Alpha_test')\n",
    "actions_test = []\n",
    "label_map_test = {}"
   ]
  },
  {
   "cell_type": "code",
   "execution_count": 5,
   "id": "30f95e0c",
   "metadata": {},
   "outputs": [
    {
     "name": "stdout",
     "output_type": "stream",
     "text": [
      "{'A': 0, 'B': 1, 'C': 2, 'D': 3, 'E': 4, 'F': 5, 'G': 6, 'H': 7, 'I': 8, 'J': 9, 'K': 10, 'L': 11, 'M': 12, 'N': 13, 'O': 14, 'P': 15, 'Q': 16, 'R': 17, 'Reset': 18, 'S': 19, 'Space': 20, 'T': 21, 'U': 22, 'V': 23, 'W': 24, 'X': 25, 'Y': 26, 'Z': 27} {'A': 0, 'B': 1, 'C': 2, 'D': 3, 'E': 4, 'F': 5, 'G': 6, 'H': 7, 'I': 8, 'J': 9, 'K': 10, 'L': 11, 'M': 12, 'N': 13, 'O': 14, 'P': 15, 'Q': 16, 'R': 17, 'Reset': 18, 'S': 19, 'Space': 20, 'T': 21, 'U': 22, 'V': 23, 'W': 24, 'X': 25, 'Y': 26, 'Z': 27}\n"
     ]
    }
   ],
   "source": [
    "for a in range(len(ax_train)):\n",
    "    label_map_train[ax_train[a]]=a\n",
    "    actions_train.append(ax_train[a])\n",
    "for a in range(len(ax_test)):\n",
    "    label_map_test[ax_test[a]]=a\n",
    "    actions_test.append(ax_test[a])  \n",
    "    \n",
    "print(label_map_train,label_map_test)"
   ]
  },
  {
   "cell_type": "code",
   "execution_count": 6,
   "id": "bb18f18d",
   "metadata": {},
   "outputs": [],
   "source": [
    "sequences_train, labels_train = [],[]\n",
    "for axs_train in actions_train:\n",
    "    for files in os.listdir(r'E:\\M.Tech\\Dissertation Stage 2 - Final\\Experimental\\Final Character\\Alpha_train\\\\'+axs_train):\n",
    "        res = np.load(r'E:\\M.Tech\\Dissertation Stage 2 - Final\\Experimental\\Final Character\\Alpha_train\\\\'+axs_train+'\\\\'+files)\n",
    "        sequences_train.append(res)\n",
    "        labels_train.append(label_map_train[axs_train])\n",
    "        #sequences_train.append(res)\n",
    "        #labels_train.append(label_map_train[axs_train])\n",
    "        \n",
    "sequences_test, labels_test = [],[]\n",
    "for axs_test in actions_test:\n",
    "    for files in os.listdir(r'E:\\M.Tech\\Dissertation Stage 2 - Final\\Experimental\\Final Character\\Alpha_test\\\\'+axs_test):\n",
    "        res = np.load(r'E:\\M.Tech\\Dissertation Stage 2 - Final\\Experimental\\Final Character\\Alpha_test\\\\'+axs_test+'\\\\'+files)\n",
    "        sequences_test.append(res)\n",
    "        labels_test.append(label_map_test[axs_test])\n",
    "        #sequences_train.append(res)\n",
    "        #labels_train.append(label_map_train[axs_train])\n",
    "        "
   ]
  },
  {
   "cell_type": "code",
   "execution_count": 7,
   "id": "6d0db759",
   "metadata": {},
   "outputs": [
    {
     "name": "stdout",
     "output_type": "stream",
     "text": [
      "(22400, 126)\n",
      "(5600, 126)\n",
      "(22400,)\n",
      "(5600,)\n"
     ]
    }
   ],
   "source": [
    "print(np.array(sequences_train).shape)\n",
    "print(np.array(sequences_test).shape)\n",
    "print(np.array(labels_train).shape)\n",
    "print(np.array(labels_test).shape)"
   ]
  },
  {
   "cell_type": "code",
   "execution_count": 8,
   "id": "562c7b6e",
   "metadata": {},
   "outputs": [],
   "source": [
    "train_x = np.array(sequences_train)\n",
    "test_x = np.array(sequences_test) \n",
    "train_y = to_categorical(labels_train).astype(int)\n",
    "test_y = to_categorical(labels_test).astype(int)"
   ]
  },
  {
   "cell_type": "code",
   "execution_count": 9,
   "id": "60983e18",
   "metadata": {},
   "outputs": [
    {
     "name": "stdout",
     "output_type": "stream",
     "text": [
      "(22400, 126)\n",
      "(22400, 28)\n",
      "(5600, 126)\n",
      "(5600, 28)\n"
     ]
    }
   ],
   "source": [
    "print(train_x.shape)\n",
    "print(train_y.shape)\n",
    "print(test_x.shape)\n",
    "print(test_y.shape)"
   ]
  },
  {
   "cell_type": "code",
   "execution_count": 43,
   "id": "7733e02e",
   "metadata": {},
   "outputs": [],
   "source": [
    "log_dir = os.path.join('Dense_Neural_Network_Lrelu')\n",
    "tb_callback = TensorBoard(log_dir = log_dir)"
   ]
  },
  {
   "cell_type": "code",
   "execution_count": 10,
   "id": "991ac9fc",
   "metadata": {},
   "outputs": [
    {
     "ename": "ValueError",
     "evalue": "Unknown activation function: LeakyRelu. Please ensure this object is passed to the `custom_objects` argument. See https://www.tensorflow.org/guide/keras/save_and_serialize#registering_the_custom_object for details.",
     "output_type": "error",
     "traceback": [
      "\u001b[1;31m---------------------------------------------------------------------------\u001b[0m",
      "\u001b[1;31mValueError\u001b[0m                                Traceback (most recent call last)",
      "\u001b[1;32m<ipython-input-10-fb9a481d557a>\u001b[0m in \u001b[0;36m<module>\u001b[1;34m\u001b[0m\n\u001b[0;32m      3\u001b[0m \u001b[1;31m# define the keras model\u001b[0m\u001b[1;33m\u001b[0m\u001b[1;33m\u001b[0m\u001b[1;33m\u001b[0m\u001b[0m\n\u001b[0;32m      4\u001b[0m \u001b[0mmod\u001b[0m \u001b[1;33m=\u001b[0m \u001b[0mSequential\u001b[0m\u001b[1;33m(\u001b[0m\u001b[1;33m)\u001b[0m\u001b[1;33m\u001b[0m\u001b[1;33m\u001b[0m\u001b[0m\n\u001b[1;32m----> 5\u001b[1;33m \u001b[0mmod\u001b[0m\u001b[1;33m.\u001b[0m\u001b[0madd\u001b[0m\u001b[1;33m(\u001b[0m\u001b[0mDense\u001b[0m\u001b[1;33m(\u001b[0m\u001b[1;36m128\u001b[0m\u001b[1;33m,\u001b[0m \u001b[0minput_shape\u001b[0m\u001b[1;33m=\u001b[0m\u001b[1;33m(\u001b[0m\u001b[1;36m126\u001b[0m\u001b[1;33m,\u001b[0m\u001b[1;33m)\u001b[0m\u001b[1;33m,\u001b[0m \u001b[0mactivation\u001b[0m\u001b[1;33m=\u001b[0m\u001b[1;34m'LeakyRelu'\u001b[0m\u001b[1;33m)\u001b[0m\u001b[1;33m)\u001b[0m\u001b[1;33m\u001b[0m\u001b[1;33m\u001b[0m\u001b[0m\n\u001b[0m\u001b[0;32m      6\u001b[0m \u001b[0mmod\u001b[0m\u001b[1;33m.\u001b[0m\u001b[0madd\u001b[0m\u001b[1;33m(\u001b[0m\u001b[0mDropout\u001b[0m\u001b[1;33m(\u001b[0m\u001b[1;36m0.3\u001b[0m\u001b[1;33m)\u001b[0m\u001b[1;33m)\u001b[0m\u001b[1;33m\u001b[0m\u001b[1;33m\u001b[0m\u001b[0m\n\u001b[0;32m      7\u001b[0m \u001b[0mmod\u001b[0m\u001b[1;33m.\u001b[0m\u001b[0madd\u001b[0m\u001b[1;33m(\u001b[0m\u001b[0mDense\u001b[0m\u001b[1;33m(\u001b[0m\u001b[1;36m128\u001b[0m\u001b[1;33m,\u001b[0m \u001b[0mactivation\u001b[0m \u001b[1;33m=\u001b[0m \u001b[1;34m'LeakyReLU'\u001b[0m\u001b[1;33m)\u001b[0m\u001b[1;33m)\u001b[0m\u001b[1;33m\u001b[0m\u001b[1;33m\u001b[0m\u001b[0m\n",
      "\u001b[1;32mE:\\Anaconda3\\lib\\site-packages\\tensorflow\\python\\keras\\layers\\core.py\u001b[0m in \u001b[0;36m__init__\u001b[1;34m(self, units, activation, use_bias, kernel_initializer, bias_initializer, kernel_regularizer, bias_regularizer, activity_regularizer, kernel_constraint, bias_constraint, **kwargs)\u001b[0m\n\u001b[0;32m   1165\u001b[0m \u001b[1;33m\u001b[0m\u001b[0m\n\u001b[0;32m   1166\u001b[0m     \u001b[0mself\u001b[0m\u001b[1;33m.\u001b[0m\u001b[0munits\u001b[0m \u001b[1;33m=\u001b[0m \u001b[0mint\u001b[0m\u001b[1;33m(\u001b[0m\u001b[0munits\u001b[0m\u001b[1;33m)\u001b[0m \u001b[1;32mif\u001b[0m \u001b[1;32mnot\u001b[0m \u001b[0misinstance\u001b[0m\u001b[1;33m(\u001b[0m\u001b[0munits\u001b[0m\u001b[1;33m,\u001b[0m \u001b[0mint\u001b[0m\u001b[1;33m)\u001b[0m \u001b[1;32melse\u001b[0m \u001b[0munits\u001b[0m\u001b[1;33m\u001b[0m\u001b[1;33m\u001b[0m\u001b[0m\n\u001b[1;32m-> 1167\u001b[1;33m     \u001b[0mself\u001b[0m\u001b[1;33m.\u001b[0m\u001b[0mactivation\u001b[0m \u001b[1;33m=\u001b[0m \u001b[0mactivations\u001b[0m\u001b[1;33m.\u001b[0m\u001b[0mget\u001b[0m\u001b[1;33m(\u001b[0m\u001b[0mactivation\u001b[0m\u001b[1;33m)\u001b[0m\u001b[1;33m\u001b[0m\u001b[1;33m\u001b[0m\u001b[0m\n\u001b[0m\u001b[0;32m   1168\u001b[0m     \u001b[0mself\u001b[0m\u001b[1;33m.\u001b[0m\u001b[0muse_bias\u001b[0m \u001b[1;33m=\u001b[0m \u001b[0muse_bias\u001b[0m\u001b[1;33m\u001b[0m\u001b[1;33m\u001b[0m\u001b[0m\n\u001b[0;32m   1169\u001b[0m     \u001b[0mself\u001b[0m\u001b[1;33m.\u001b[0m\u001b[0mkernel_initializer\u001b[0m \u001b[1;33m=\u001b[0m \u001b[0minitializers\u001b[0m\u001b[1;33m.\u001b[0m\u001b[0mget\u001b[0m\u001b[1;33m(\u001b[0m\u001b[0mkernel_initializer\u001b[0m\u001b[1;33m)\u001b[0m\u001b[1;33m\u001b[0m\u001b[1;33m\u001b[0m\u001b[0m\n",
      "\u001b[1;32mE:\\Anaconda3\\lib\\site-packages\\tensorflow\\python\\util\\dispatch.py\u001b[0m in \u001b[0;36mwrapper\u001b[1;34m(*args, **kwargs)\u001b[0m\n\u001b[0;32m    204\u001b[0m     \u001b[1;34m\"\"\"Call target, and fall back on dispatchers if there is a TypeError.\"\"\"\u001b[0m\u001b[1;33m\u001b[0m\u001b[1;33m\u001b[0m\u001b[0m\n\u001b[0;32m    205\u001b[0m     \u001b[1;32mtry\u001b[0m\u001b[1;33m:\u001b[0m\u001b[1;33m\u001b[0m\u001b[1;33m\u001b[0m\u001b[0m\n\u001b[1;32m--> 206\u001b[1;33m       \u001b[1;32mreturn\u001b[0m \u001b[0mtarget\u001b[0m\u001b[1;33m(\u001b[0m\u001b[1;33m*\u001b[0m\u001b[0margs\u001b[0m\u001b[1;33m,\u001b[0m \u001b[1;33m**\u001b[0m\u001b[0mkwargs\u001b[0m\u001b[1;33m)\u001b[0m\u001b[1;33m\u001b[0m\u001b[1;33m\u001b[0m\u001b[0m\n\u001b[0m\u001b[0;32m    207\u001b[0m     \u001b[1;32mexcept\u001b[0m \u001b[1;33m(\u001b[0m\u001b[0mTypeError\u001b[0m\u001b[1;33m,\u001b[0m \u001b[0mValueError\u001b[0m\u001b[1;33m)\u001b[0m\u001b[1;33m:\u001b[0m\u001b[1;33m\u001b[0m\u001b[1;33m\u001b[0m\u001b[0m\n\u001b[0;32m    208\u001b[0m       \u001b[1;31m# Note: convert_to_eager_tensor currently raises a ValueError, not a\u001b[0m\u001b[1;33m\u001b[0m\u001b[1;33m\u001b[0m\u001b[1;33m\u001b[0m\u001b[0m\n",
      "\u001b[1;32mE:\\Anaconda3\\lib\\site-packages\\tensorflow\\python\\keras\\activations.py\u001b[0m in \u001b[0;36mget\u001b[1;34m(identifier)\u001b[0m\n\u001b[0;32m    585\u001b[0m   \u001b[1;32mif\u001b[0m \u001b[0misinstance\u001b[0m\u001b[1;33m(\u001b[0m\u001b[0midentifier\u001b[0m\u001b[1;33m,\u001b[0m \u001b[0mstr\u001b[0m\u001b[1;33m)\u001b[0m\u001b[1;33m:\u001b[0m\u001b[1;33m\u001b[0m\u001b[1;33m\u001b[0m\u001b[0m\n\u001b[0;32m    586\u001b[0m     \u001b[0midentifier\u001b[0m \u001b[1;33m=\u001b[0m \u001b[0mstr\u001b[0m\u001b[1;33m(\u001b[0m\u001b[0midentifier\u001b[0m\u001b[1;33m)\u001b[0m\u001b[1;33m\u001b[0m\u001b[1;33m\u001b[0m\u001b[0m\n\u001b[1;32m--> 587\u001b[1;33m     \u001b[1;32mreturn\u001b[0m \u001b[0mdeserialize\u001b[0m\u001b[1;33m(\u001b[0m\u001b[0midentifier\u001b[0m\u001b[1;33m)\u001b[0m\u001b[1;33m\u001b[0m\u001b[1;33m\u001b[0m\u001b[0m\n\u001b[0m\u001b[0;32m    588\u001b[0m   \u001b[1;32melif\u001b[0m \u001b[0misinstance\u001b[0m\u001b[1;33m(\u001b[0m\u001b[0midentifier\u001b[0m\u001b[1;33m,\u001b[0m \u001b[0mdict\u001b[0m\u001b[1;33m)\u001b[0m\u001b[1;33m:\u001b[0m\u001b[1;33m\u001b[0m\u001b[1;33m\u001b[0m\u001b[0m\n\u001b[0;32m    589\u001b[0m     \u001b[1;32mreturn\u001b[0m \u001b[0mdeserialize\u001b[0m\u001b[1;33m(\u001b[0m\u001b[0midentifier\u001b[0m\u001b[1;33m)\u001b[0m\u001b[1;33m\u001b[0m\u001b[1;33m\u001b[0m\u001b[0m\n",
      "\u001b[1;32mE:\\Anaconda3\\lib\\site-packages\\tensorflow\\python\\util\\dispatch.py\u001b[0m in \u001b[0;36mwrapper\u001b[1;34m(*args, **kwargs)\u001b[0m\n\u001b[0;32m    204\u001b[0m     \u001b[1;34m\"\"\"Call target, and fall back on dispatchers if there is a TypeError.\"\"\"\u001b[0m\u001b[1;33m\u001b[0m\u001b[1;33m\u001b[0m\u001b[0m\n\u001b[0;32m    205\u001b[0m     \u001b[1;32mtry\u001b[0m\u001b[1;33m:\u001b[0m\u001b[1;33m\u001b[0m\u001b[1;33m\u001b[0m\u001b[0m\n\u001b[1;32m--> 206\u001b[1;33m       \u001b[1;32mreturn\u001b[0m \u001b[0mtarget\u001b[0m\u001b[1;33m(\u001b[0m\u001b[1;33m*\u001b[0m\u001b[0margs\u001b[0m\u001b[1;33m,\u001b[0m \u001b[1;33m**\u001b[0m\u001b[0mkwargs\u001b[0m\u001b[1;33m)\u001b[0m\u001b[1;33m\u001b[0m\u001b[1;33m\u001b[0m\u001b[0m\n\u001b[0m\u001b[0;32m    207\u001b[0m     \u001b[1;32mexcept\u001b[0m \u001b[1;33m(\u001b[0m\u001b[0mTypeError\u001b[0m\u001b[1;33m,\u001b[0m \u001b[0mValueError\u001b[0m\u001b[1;33m)\u001b[0m\u001b[1;33m:\u001b[0m\u001b[1;33m\u001b[0m\u001b[1;33m\u001b[0m\u001b[0m\n\u001b[0;32m    208\u001b[0m       \u001b[1;31m# Note: convert_to_eager_tensor currently raises a ValueError, not a\u001b[0m\u001b[1;33m\u001b[0m\u001b[1;33m\u001b[0m\u001b[1;33m\u001b[0m\u001b[0m\n",
      "\u001b[1;32mE:\\Anaconda3\\lib\\site-packages\\tensorflow\\python\\keras\\activations.py\u001b[0m in \u001b[0;36mdeserialize\u001b[1;34m(name, custom_objects)\u001b[0m\n\u001b[0;32m    544\u001b[0m       \u001b[0mglobs\u001b[0m\u001b[1;33m[\u001b[0m\u001b[0mkey\u001b[0m\u001b[1;33m]\u001b[0m \u001b[1;33m=\u001b[0m \u001b[0mval\u001b[0m\u001b[1;33m\u001b[0m\u001b[1;33m\u001b[0m\u001b[0m\n\u001b[0;32m    545\u001b[0m \u001b[1;33m\u001b[0m\u001b[0m\n\u001b[1;32m--> 546\u001b[1;33m   return deserialize_keras_object(\n\u001b[0m\u001b[0;32m    547\u001b[0m       \u001b[0mname\u001b[0m\u001b[1;33m,\u001b[0m\u001b[1;33m\u001b[0m\u001b[1;33m\u001b[0m\u001b[0m\n\u001b[0;32m    548\u001b[0m       \u001b[0mmodule_objects\u001b[0m\u001b[1;33m=\u001b[0m\u001b[0mglobs\u001b[0m\u001b[1;33m,\u001b[0m\u001b[1;33m\u001b[0m\u001b[1;33m\u001b[0m\u001b[0m\n",
      "\u001b[1;32mE:\\Anaconda3\\lib\\site-packages\\tensorflow\\python\\keras\\utils\\generic_utils.py\u001b[0m in \u001b[0;36mdeserialize_keras_object\u001b[1;34m(identifier, module_objects, custom_objects, printable_module_name)\u001b[0m\n\u001b[0;32m    696\u001b[0m       \u001b[0mobj\u001b[0m \u001b[1;33m=\u001b[0m \u001b[0mmodule_objects\u001b[0m\u001b[1;33m.\u001b[0m\u001b[0mget\u001b[0m\u001b[1;33m(\u001b[0m\u001b[0mobject_name\u001b[0m\u001b[1;33m)\u001b[0m\u001b[1;33m\u001b[0m\u001b[1;33m\u001b[0m\u001b[0m\n\u001b[0;32m    697\u001b[0m       \u001b[1;32mif\u001b[0m \u001b[0mobj\u001b[0m \u001b[1;32mis\u001b[0m \u001b[1;32mNone\u001b[0m\u001b[1;33m:\u001b[0m\u001b[1;33m\u001b[0m\u001b[1;33m\u001b[0m\u001b[0m\n\u001b[1;32m--> 698\u001b[1;33m         raise ValueError(\n\u001b[0m\u001b[0;32m    699\u001b[0m             \u001b[1;34m'Unknown {}: {}. Please ensure this object is '\u001b[0m\u001b[1;33m\u001b[0m\u001b[1;33m\u001b[0m\u001b[0m\n\u001b[0;32m    700\u001b[0m             \u001b[1;34m'passed to the `custom_objects` argument. See '\u001b[0m\u001b[1;33m\u001b[0m\u001b[1;33m\u001b[0m\u001b[0m\n",
      "\u001b[1;31mValueError\u001b[0m: Unknown activation function: LeakyRelu. Please ensure this object is passed to the `custom_objects` argument. See https://www.tensorflow.org/guide/keras/save_and_serialize#registering_the_custom_object for details."
     ]
    }
   ],
   "source": [
    "from keras.layers import LeakyReLU\n",
    "\n",
    "# define the keras model\n",
    "mod = Sequential()\n",
    "mod.add(Dense(128, input_shape=(126,), activation=LeakyRelu))\n",
    "mod.add(Dropout(0.3))\n",
    "mod.add(Dense(128, activation = 'LeakyReLU'))\n",
    "mod.add(Dropout(0.3))\n",
    "mod.add(Dense(64, activation = 'LeakyReLU'))\n",
    "mod.add(Dropout(0.3))\n",
    "mod.add(Dense(32, activation = ''))\n",
    "mod.add(Dropout(0.3))\n",
    "mod.add(Dense(28, activation='sigmoid'))"
   ]
  },
  {
   "cell_type": "code",
   "execution_count": 45,
   "id": "71618a52",
   "metadata": {},
   "outputs": [
    {
     "name": "stdout",
     "output_type": "stream",
     "text": [
      "Model: \"sequential_2\"\n",
      "_________________________________________________________________\n",
      "Layer (type)                 Output Shape              Param #   \n",
      "=================================================================\n",
      "dense_10 (Dense)             (None, 128)               16256     \n",
      "_________________________________________________________________\n",
      "dropout_8 (Dropout)          (None, 128)               0         \n",
      "_________________________________________________________________\n",
      "dense_11 (Dense)             (None, 128)               16512     \n",
      "_________________________________________________________________\n",
      "dropout_9 (Dropout)          (None, 128)               0         \n",
      "_________________________________________________________________\n",
      "dense_12 (Dense)             (None, 64)                8256      \n",
      "_________________________________________________________________\n",
      "dropout_10 (Dropout)         (None, 64)                0         \n",
      "_________________________________________________________________\n",
      "dense_13 (Dense)             (None, 32)                2080      \n",
      "_________________________________________________________________\n",
      "dropout_11 (Dropout)         (None, 32)                0         \n",
      "_________________________________________________________________\n",
      "dense_14 (Dense)             (None, 28)                924       \n",
      "=================================================================\n",
      "Total params: 44,028\n",
      "Trainable params: 44,028\n",
      "Non-trainable params: 0\n",
      "_________________________________________________________________\n"
     ]
    }
   ],
   "source": [
    "mod.compile(loss = 'categorical_crossentropy', optimizer = 'adam', metrics = ['accuracy'])\n",
    "mod.summary()"
   ]
  },
  {
   "cell_type": "code",
   "execution_count": 46,
   "id": "0c21171f",
   "metadata": {},
   "outputs": [
    {
     "name": "stdout",
     "output_type": "stream",
     "text": [
      "Epoch 1/20\n",
      "178/178 [==============================] - 4s 17ms/step - loss: 2.7017 - accuracy: 0.1858\n",
      "Epoch 2/20\n",
      "178/178 [==============================] - 1s 8ms/step - loss: 1.4639 - accuracy: 0.5068\n",
      "Epoch 3/20\n",
      "178/178 [==============================] - 1s 8ms/step - loss: 0.9538 - accuracy: 0.6672\n",
      "Epoch 4/20\n",
      "178/178 [==============================] - 1s 8ms/step - loss: 0.7343 - accuracy: 0.7497\n",
      "Epoch 5/20\n",
      "178/178 [==============================] - 1s 8ms/step - loss: 0.6170 - accuracy: 0.7900\n",
      "Epoch 6/20\n",
      "178/178 [==============================] - 2s 9ms/step - loss: 0.5245 - accuracy: 0.8300\n",
      "Epoch 7/20\n",
      "178/178 [==============================] - 1s 8ms/step - loss: 0.4534 - accuracy: 0.8568\n",
      "Epoch 8/20\n",
      "178/178 [==============================] - 2s 9ms/step - loss: 0.3936 - accuracy: 0.8796\n",
      "Epoch 9/20\n",
      "178/178 [==============================] - 2s 9ms/step - loss: 0.3590 - accuracy: 0.8936\n",
      "Epoch 10/20\n",
      "178/178 [==============================] - 2s 9ms/step - loss: 0.3203 - accuracy: 0.9087\n",
      "Epoch 11/20\n",
      "178/178 [==============================] - 2s 9ms/step - loss: 0.2937 - accuracy: 0.9194\n",
      "Epoch 12/20\n",
      "178/178 [==============================] - 2s 9ms/step - loss: 0.2824 - accuracy: 0.9217\n",
      "Epoch 13/20\n",
      "178/178 [==============================] - 2s 9ms/step - loss: 0.2524 - accuracy: 0.9309\n",
      "Epoch 14/20\n",
      "178/178 [==============================] - 2s 9ms/step - loss: 0.2373 - accuracy: 0.9360\n",
      "Epoch 15/20\n",
      "178/178 [==============================] - 1s 8ms/step - loss: 0.2303 - accuracy: 0.9381\n",
      "Epoch 16/20\n",
      "178/178 [==============================] - 2s 9ms/step - loss: 0.2187 - accuracy: 0.9395\n",
      "Epoch 17/20\n",
      "178/178 [==============================] - 1s 7ms/step - loss: 0.2012 - accuracy: 0.9469: 0s - loss: 0.2049 - accu\n",
      "Epoch 18/20\n",
      "178/178 [==============================] - 2s 9ms/step - loss: 0.1899 - accuracy: 0.9510\n",
      "Epoch 19/20\n",
      "178/178 [==============================] - 2s 9ms/step - loss: 0.1947 - accuracy: 0.9475\n",
      "Epoch 20/20\n",
      "178/178 [==============================] - 2s 9ms/step - loss: 0.1832 - accuracy: 0.9517\n"
     ]
    },
    {
     "data": {
      "text/plain": [
       "<tensorflow.python.keras.callbacks.History at 0x26532a1ea60>"
      ]
     },
     "execution_count": 46,
     "metadata": {},
     "output_type": "execute_result"
    }
   ],
   "source": [
    "mod.fit(train_x, train_y, epochs = 20, batch_size=126,callbacks = [tb_callback] )\n",
    "#scores = model.evaluate(test_x, test_y)"
   ]
  },
  {
   "cell_type": "code",
   "execution_count": 47,
   "id": "a5be2ca2",
   "metadata": {},
   "outputs": [
    {
     "data": {
      "text/plain": [
       "0"
      ]
     },
     "execution_count": 47,
     "metadata": {},
     "output_type": "execute_result"
    }
   ],
   "source": [
    "np.argmax(model.predict(test_x[2].reshape(-1,126)))"
   ]
  },
  {
   "cell_type": "code",
   "execution_count": 48,
   "id": "6cb512ea",
   "metadata": {},
   "outputs": [],
   "source": [
    "tt = {0:'A',1:'B',2:'C',3:'D',4:'E',\n",
    "     5:'F',6:'G',7:'H',8:'I',9:'J',\n",
    "     10:'K',11:'L',12:'M',13:'N',14:'O',\n",
    "     15:'P',16:'Q',17:'R',18:'Reset',19:'S',\n",
    "     20:'Space',21:'T',22:'U',23:'V',24:'W',\n",
    "     25:'X',26:'Y',27:'Z'}\n",
    "\n",
    "def pred(test_path):\n",
    "    test_path = np.load(test_path)\n",
    "    x = model.predict(test_path.reshape(-1,126))\n",
    "    return tt[np.argmax(x)]\n",
    "    #op = floor(x[0])"
   ]
  },
  {
   "cell_type": "code",
   "execution_count": 49,
   "id": "b805b1c0",
   "metadata": {},
   "outputs": [
    {
     "data": {
      "text/plain": [
       "'E'"
      ]
     },
     "execution_count": 49,
     "metadata": {},
     "output_type": "execute_result"
    }
   ],
   "source": [
    "pred(r'E:\\M.Tech\\Dissertation Stage 2 - Final\\Final Character\\Alpha_test\\E\\820.npy')"
   ]
  },
  {
   "cell_type": "code",
   "execution_count": 50,
   "id": "8ca943eb",
   "metadata": {},
   "outputs": [],
   "source": [
    "model.save('Perfect_28_Character_relu.h5')"
   ]
  },
  {
   "cell_type": "markdown",
   "id": "426f4fb3",
   "metadata": {},
   "source": [
    "# Test\n"
   ]
  },
  {
   "cell_type": "code",
   "execution_count": 36,
   "id": "5eb00ab9",
   "metadata": {},
   "outputs": [],
   "source": [
    "import os\n",
    "import cv2\n",
    "import matplotlib.pyplot as plt\n",
    "import numpy as np\n",
    "import os\n",
    "import time\n",
    "import mediapipe as mp\n",
    "from sklearn.model_selection import train_test_split\n",
    "from tensorflow.keras.utils import to_categorical\n",
    "from preprocess import mediapipe_detection,landmarks\n",
    "\n",
    "mp_holistic = mp.solutions.holistic\n",
    "mp_drawing = mp.solutions.drawing_utils"
   ]
  },
  {
   "cell_type": "code",
   "execution_count": 37,
   "id": "615f495b",
   "metadata": {},
   "outputs": [],
   "source": [
    "def draw_styled_landmarks(image,results):\n",
    "    mp_drawing.draw_landmarks(image, results.left_hand_landmarks, mp_holistic.HAND_CONNECTIONS,\n",
    "                             mp_drawing.DrawingSpec(color = (121,22,76), thickness = 2, circle_radius = 4),\n",
    "                             mp_drawing.DrawingSpec(color = (121,44,250), thickness = 2, circle_radius = 2))\n",
    "    \n",
    "    mp_drawing.draw_landmarks(image, results.right_hand_landmarks, mp_holistic.HAND_CONNECTIONS,\n",
    "                             mp_drawing.DrawingSpec(color = (245,117,66), thickness = 2, circle_radius = 4),\n",
    "                             mp_drawing.DrawingSpec(color = (245,66,230), thickness = 2, circle_radius = 2))\n",
    "\n",
    "def extract_keypoints(results):\n",
    "    left_hand = np.array([[res.x,res.y,res.z] for res in results.left_hand_landmarks.landmark] ).flatten() if results.left_hand_landmarks else np.zeros(63)\n",
    "    right_hand = np.array(([[res.x,res.y,res.z] for res in results.right_hand_landmarks.landmark] )).flatten() if results.right_hand_landmarks else np.zeros(63)\n",
    "    return np.concatenate([left_hand,right_hand])"
   ]
  },
  {
   "cell_type": "code",
   "execution_count": 38,
   "id": "ca106324",
   "metadata": {},
   "outputs": [],
   "source": [
    "cap = cv2.VideoCapture(0)\n",
    "with mp_holistic.Holistic(min_detection_confidence = 0.5, min_tracking_confidence = 0.4) as holistic:\n",
    "    \n",
    "    while True: \n",
    "        \n",
    "        _,frame = cap.read()\n",
    "        image,results = mediapipe_detection(frame,holistic)\n",
    "        draw_styled_landmarks(image,results)\n",
    "        \n",
    "\n",
    "        #cv2.imshow(\"sign_videos\",image)\n",
    "\n",
    "        keypoints = extract_keypoints(results)\n",
    "        max_frame = []\n",
    "        pp = pred(keypoints)\n",
    "        cv2.putText(image,'Image for{}'.format(pp),(15,12),cv2.FONT_HERSHEY_SIMPLEX, 0.5,(0,0,255),1,cv2.LINE_AA)\n",
    "        cv2.imshow(\"sign_videos\",image)\n",
    "        '''\n",
    "        for xx in range(0,20):\n",
    "            pp = max_frame.append(pred(keypoints))\n",
    "        else:\n",
    "            print(max(pp))\n",
    "\n",
    "        continue\n",
    "\n",
    "        '''\n",
    "        if cv2.waitKey(10) & 0xFF == ord('q'):\n",
    "            break\n",
    "\n",
    "cap.release()\n",
    "cv2.destroyAllWindows()"
   ]
  },
  {
   "cell_type": "code",
   "execution_count": null,
   "id": "2dbc8731",
   "metadata": {},
   "outputs": [],
   "source": []
  }
 ],
 "metadata": {
  "kernelspec": {
   "display_name": "Python 3",
   "language": "python",
   "name": "python3"
  },
  "language_info": {
   "codemirror_mode": {
    "name": "ipython",
    "version": 3
   },
   "file_extension": ".py",
   "mimetype": "text/x-python",
   "name": "python",
   "nbconvert_exporter": "python",
   "pygments_lexer": "ipython3",
   "version": "3.8.8"
  }
 },
 "nbformat": 4,
 "nbformat_minor": 5
}
