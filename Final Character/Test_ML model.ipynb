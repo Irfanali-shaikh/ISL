{
 "cells": [
  {
   "cell_type": "code",
   "execution_count": 1,
   "id": "5a353fdd",
   "metadata": {},
   "outputs": [],
   "source": [
    "import os\n",
    "import cv2\n",
    "import matplotlib.pyplot as plt\n",
    "import numpy as np\n",
    "import os\n",
    "import time\n",
    "import mediapipe as mp\n",
    "from sklearn.model_selection import train_test_split\n",
    "from tensorflow.keras.utils import to_categorical\n",
    "from preprocess import mediapipe_detection,landmarks"
   ]
  },
  {
   "cell_type": "code",
   "execution_count": 2,
   "id": "492629d6",
   "metadata": {},
   "outputs": [],
   "source": [
    "mp_holistic = mp.solutions.holistic\n",
    "mp_drawing = mp.solutions.drawing_utils"
   ]
  },
  {
   "cell_type": "code",
   "execution_count": 3,
   "id": "be6dd304",
   "metadata": {},
   "outputs": [],
   "source": [
    "def draw_styled_landmarks(image,results):\n",
    "    mp_drawing.draw_landmarks(image, results.left_hand_landmarks, mp_holistic.HAND_CONNECTIONS,\n",
    "                             mp_drawing.DrawingSpec(color = (121,22,76), thickness = 2, circle_radius = 4),\n",
    "                             mp_drawing.DrawingSpec(color = (121,44,250), thickness = 2, circle_radius = 2))\n",
    "    \n",
    "    mp_drawing.draw_landmarks(image, results.right_hand_landmarks, mp_holistic.HAND_CONNECTIONS,\n",
    "                             mp_drawing.DrawingSpec(color = (245,117,66), thickness = 2, circle_radius = 4),\n",
    "                             mp_drawing.DrawingSpec(color = (245,66,230), thickness = 2, circle_radius = 2))\n",
    "\n",
    "def extract_keypoints(results):\n",
    "    left_hand = np.array([[res.x,res.y,res.z] for res in results.left_hand_landmarks.landmark] ).flatten() if results.left_hand_landmarks else np.zeros(63)\n",
    "    right_hand = np.array(([[res.x,res.y,res.z] for res in results.right_hand_landmarks.landmark] )).flatten() if results.right_hand_landmarks else np.zeros(63)\n",
    "    return np.concatenate([left_hand,right_hand])"
   ]
  },
  {
   "cell_type": "code",
   "execution_count": 11,
   "id": "0e630fea",
   "metadata": {},
   "outputs": [
    {
     "data": {
      "text/plain": [
       "RandomForestRegressor(n_estimators=1000, random_state=28)"
      ]
     },
     "execution_count": 11,
     "metadata": {},
     "output_type": "execute_result"
    }
   ],
   "source": [
    "import pickle\n",
    "from math import ceil,floor\n",
    "Pkl_Filename = \"Hand_ML_Model.pkl\"\n",
    "with open(Pkl_Filename, 'rb') as file:  \n",
    "    rf = pickle.load(file)\n",
    "\n",
    "rf"
   ]
  },
  {
   "cell_type": "code",
   "execution_count": 31,
   "id": "d5ceb0fc",
   "metadata": {},
   "outputs": [],
   "source": [
    "tt = {0:'A',1:'B',2:'C',3:'D',4:'E',\n",
    "     5:'F',6:'G',7:'H',8:'I',9:'J',\n",
    "     10:'K',11:'L',12:'M',13:'N',14:'O',\n",
    "     15:'P',16:'Q',17:'R',18:'Reset',19:'S',\n",
    "     20:'Space',21:'T',22:'U',23:'V',24:'W',\n",
    "     25:'X',26:'Y',27:'Z'}\n",
    "\n",
    "def pred(test_path):\n",
    "    x = rf.predict(test_path.reshape(1,126))\n",
    "    #op = floor(x[0])\n",
    "    if int(str(x[0]).split('.')[1][:2])>80:\n",
    "        op = ceil(x[0])\n",
    "    else:\n",
    "        op = floor(x[0])\n",
    "    return tt[op]"
   ]
  },
  {
   "cell_type": "code",
   "execution_count": 32,
   "id": "7540df09",
   "metadata": {},
   "outputs": [],
   "source": [
    "cap = cv2.VideoCapture(0)\n",
    "with mp_holistic.Holistic(min_detection_confidence = 0.5, min_tracking_confidence = 0.4) as holistic:\n",
    "    \n",
    "    while True: \n",
    "        \n",
    "        _,frame = cap.read()\n",
    "        image,results = mediapipe_detection(frame,holistic)\n",
    "        draw_styled_landmarks(image,results)\n",
    "        \n",
    "\n",
    "        #cv2.imshow(\"sign_videos\",image)\n",
    "\n",
    "        keypoints = extract_keypoints(results)\n",
    "        max_frame = []\n",
    "        pp = pred(keypoints)\n",
    "        cv2.putText(image,'Image for{}'.format(pp),(15,12),cv2.FONT_HERSHEY_SIMPLEX, 0.5,(0,0,255),1,cv2.LINE_AA)\n",
    "        cv2.imshow(\"sign_videos\",image)\n",
    "        '''\n",
    "        for xx in range(0,20):\n",
    "            pp = max_frame.append(pred(keypoints))\n",
    "        else:\n",
    "            print(max(pp))\n",
    "\n",
    "        continue\n",
    "\n",
    "        '''\n",
    "        if cv2.waitKey(10) & 0xFF == ord('q'):\n",
    "            break\n",
    "\n",
    "cap.release()\n",
    "cv2.destroyAllWindows()"
   ]
  },
  {
   "cell_type": "code",
   "execution_count": null,
   "id": "cf5bc215",
   "metadata": {},
   "outputs": [],
   "source": []
  }
 ],
 "metadata": {
  "kernelspec": {
   "display_name": "Python 3",
   "language": "python",
   "name": "python3"
  },
  "language_info": {
   "codemirror_mode": {
    "name": "ipython",
    "version": 3
   },
   "file_extension": ".py",
   "mimetype": "text/x-python",
   "name": "python",
   "nbconvert_exporter": "python",
   "pygments_lexer": "ipython3",
   "version": "3.8.8"
  }
 },
 "nbformat": 4,
 "nbformat_minor": 5
}
