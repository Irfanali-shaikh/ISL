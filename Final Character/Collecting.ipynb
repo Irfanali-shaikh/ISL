{
 "cells": [
  {
   "cell_type": "code",
   "execution_count": 1,
   "id": "8929fd3a",
   "metadata": {},
   "outputs": [],
   "source": [
    "import os\n",
    "import cv2\n",
    "import matplotlib.pyplot as plt\n",
    "import numpy as np\n",
    "import os\n",
    "import time\n",
    "import mediapipe as mp\n",
    "from sklearn.model_selection import train_test_split\n",
    "from tensorflow.keras.utils import to_categorical\n",
    "from preprocess import mediapipe_detection,landmarks"
   ]
  },
  {
   "cell_type": "code",
   "execution_count": 2,
   "id": "b118f3b2",
   "metadata": {},
   "outputs": [],
   "source": [
    "mp_holistic = mp.solutions.holistic\n",
    "mp_drawing = mp.solutions.drawing_utils"
   ]
  },
  {
   "cell_type": "code",
   "execution_count": 3,
   "id": "7beed685",
   "metadata": {},
   "outputs": [],
   "source": [
    "def draw_styled_landmarks(image,results):\n",
    "    mp_drawing.draw_landmarks(image, results.left_hand_landmarks, mp_holistic.HAND_CONNECTIONS,\n",
    "                             mp_drawing.DrawingSpec(color = (121,22,76), thickness = 2, circle_radius = 4),\n",
    "                             mp_drawing.DrawingSpec(color = (121,44,250), thickness = 2, circle_radius = 2))\n",
    "    \n",
    "    mp_drawing.draw_landmarks(image, results.right_hand_landmarks, mp_holistic.HAND_CONNECTIONS,\n",
    "                             mp_drawing.DrawingSpec(color = (245,117,66), thickness = 2, circle_radius = 4),\n",
    "                             mp_drawing.DrawingSpec(color = (245,66,230), thickness = 2, circle_radius = 2))\n",
    "\n",
    "def extract_keypoints(results):\n",
    "    left_hand = np.array([[res.x,res.y,res.z] for res in results.left_hand_landmarks.landmark] ).flatten() if results.left_hand_landmarks else np.zeros(63)\n",
    "    right_hand = np.array(([[res.x,res.y,res.z] for res in results.right_hand_landmarks.landmark] )).flatten() if results.right_hand_landmarks else np.zeros(63)\n",
    "    return np.concatenate([left_hand,right_hand])"
   ]
  },
  {
   "cell_type": "code",
   "execution_count": 10,
   "id": "234ad6dd",
   "metadata": {},
   "outputs": [],
   "source": [
    "try:\n",
    "    ax = os.listdir(os.getcwd()+'\\\\ppt\\\\')\n",
    "except:\n",
    "    os.mkdir('ppt')\n",
    "actions = []\n",
    "label_map = {}\n",
    "path = r'E:\\M.Tech\\Dissertation Stage 2 - ISL - Final\\Experimental\\Final Character\\ppt'"
   ]
  },
  {
   "cell_type": "code",
   "execution_count": 18,
   "id": "efaea718",
   "metadata": {},
   "outputs": [],
   "source": [
    "DATA_PATH = path\n",
    "\n",
    "#no_sequences = 20 #number of videos\n",
    "sequence_length  = 10  #number of frames per video"
   ]
  },
  {
   "cell_type": "code",
   "execution_count": 16,
   "id": "69c1a344",
   "metadata": {},
   "outputs": [
    {
     "name": "stdout",
     "output_type": "stream",
     "text": [
      "Enter Action Name A\n"
     ]
    }
   ],
   "source": [
    "actions = [input(\"Enter Action Name \")]"
   ]
  },
  {
   "cell_type": "code",
   "execution_count": 20,
   "id": "e4513d4a",
   "metadata": {},
   "outputs": [
    {
     "name": "stdout",
     "output_type": "stream",
     "text": [
      "<class 'mediapipe.python.solution_base.SolutionOutputs'>\n",
      "<class 'mediapipe.python.solution_base.SolutionOutputs'>\n",
      "<class 'mediapipe.python.solution_base.SolutionOutputs'>\n",
      "<class 'mediapipe.python.solution_base.SolutionOutputs'>\n",
      "<class 'mediapipe.python.solution_base.SolutionOutputs'>\n",
      "<class 'mediapipe.python.solution_base.SolutionOutputs'>\n",
      "<class 'mediapipe.python.solution_base.SolutionOutputs'>\n",
      "<class 'mediapipe.python.solution_base.SolutionOutputs'>\n",
      "<class 'mediapipe.python.solution_base.SolutionOutputs'>\n",
      "<class 'mediapipe.python.solution_base.SolutionOutputs'>\n"
     ]
    }
   ],
   "source": [
    "cap = cv2.VideoCapture(0)\n",
    "with mp_holistic.Holistic(min_detection_confidence = 0.5, min_tracking_confidence = 0.4) as holistic:\n",
    "    \n",
    "    for action in actions: \n",
    "        for frame_num in range(sequence_length):\n",
    "\n",
    "            _,frame = cap.read()\n",
    "            image,results = mediapipe_detection(frame,holistic)\n",
    "            draw_styled_landmarks(image,results)\n",
    "\n",
    "            if frame_num == 0:\n",
    "                cv2.putText(image,'Starting Collection',(120,120),\n",
    "                           cv2.FONT_HERSHEY_SIMPLEX, 0.5,(0,0,255),\n",
    "                           1,cv2.LINE_AA)\n",
    "                cv2.imshow(\"sign_videos\",image)\n",
    "                cv2.waitKey(2000)\n",
    "            else:\n",
    "                cv2.putText(image,'Collecting {} frame number {}'.format(action,frame_num),(15,12),\n",
    "                            cv2.FONT_HERSHEY_SIMPLEX, 0.5,(0,0,255),\n",
    "                           1,cv2.LINE_AA)\n",
    "                cv2.imshow(\"sign_videos\",image)\n",
    "            cv2.imwrite(path+'\\\\'+str(frame_num)+\".jpg\",image)\n",
    "            print(results)\n",
    "            keypoints = extract_keypoints(results)\n",
    "            #np_path = os.path.join(DATA_PATH,action,str(frame_num))\n",
    "            np.save(np_path,keypoints)\n",
    "\n",
    "\n",
    "            if cv2.waitKey(10) & 0xFF == ord('q'):\n",
    "                break\n",
    "\n",
    "    cap.release()\n",
    "    cv2.destroyAllWindows()"
   ]
  },
  {
   "cell_type": "code",
   "execution_count": null,
   "id": "ac0eba8a",
   "metadata": {},
   "outputs": [],
   "source": []
  },
  {
   "cell_type": "code",
   "execution_count": null,
   "id": "800da162",
   "metadata": {},
   "outputs": [],
   "source": []
  }
 ],
 "metadata": {
  "kernelspec": {
   "display_name": "Python 3 (ipykernel)",
   "language": "python",
   "name": "python3"
  },
  "language_info": {
   "codemirror_mode": {
    "name": "ipython",
    "version": 3
   },
   "file_extension": ".py",
   "mimetype": "text/x-python",
   "name": "python",
   "nbconvert_exporter": "python",
   "pygments_lexer": "ipython3",
   "version": "3.8.12"
  }
 },
 "nbformat": 4,
 "nbformat_minor": 5
}
