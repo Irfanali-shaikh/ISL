{
 "cells": [
  {
   "cell_type": "code",
   "execution_count": 9,
   "id": "7646a715",
   "metadata": {},
   "outputs": [],
   "source": [
    "import os\n",
    "import cv2\n",
    "import matplotlib.pyplot as plt\n",
    "import numpy as np\n",
    "import os\n",
    "import time\n",
    "import mediapipe as mp\n",
    "from sklearn.model_selection import train_test_split\n",
    "from tensorflow.keras.utils import to_categorical\n",
    "from preprocess import mediapipe_detection,landmarks\n",
    "import os\n",
    "import cv2\n",
    "import matplotlib.pyplot as plt\n",
    "import numpy as np\n",
    "import os\n",
    "import time\n",
    "import mediapipe as mp\n",
    "from sklearn.model_selection import train_test_split\n",
    "from tensorflow.keras.utils import to_categorical\n",
    "from tensorflow.keras.models import Sequential\n",
    "from tensorflow.keras.layers import LSTM,Dense,GRU,Dropout\n",
    "from tensorflow.keras.callbacks import TensorBoard\n",
    "from tensorflow import keras\n",
    "from sklearn.metrics import multilabel_confusion_matrix, accuracy_score\n",
    "from sklearn.metrics import confusion_matrix\n",
    "import seaborn as sns\n",
    "from sklearn.metrics import plot_confusion_matrix\n",
    "from sklearn.metrics import confusion_matrix\n",
    "import pyttsx3\n",
    "mp_holistic = mp.solutions.holistic\n",
    "mp_drawing = mp.solutions.drawing_utils"
   ]
  },
  {
   "cell_type": "code",
   "execution_count": 6,
   "id": "10c156a2",
   "metadata": {},
   "outputs": [],
   "source": [
    "def draw_styled_landmarks(image,results):\n",
    "    mp_drawing.draw_landmarks(image, results.left_hand_landmarks, mp_holistic.HAND_CONNECTIONS,\n",
    "                             mp_drawing.DrawingSpec(color = (121,22,76), thickness = 2, circle_radius = 4),\n",
    "                             mp_drawing.DrawingSpec(color = (121,44,250), thickness = 2, circle_radius = 2))\n",
    "    \n",
    "    mp_drawing.draw_landmarks(image, results.right_hand_landmarks, mp_holistic.HAND_CONNECTIONS,\n",
    "                             mp_drawing.DrawingSpec(color = (245,117,66), thickness = 2, circle_radius = 4),\n",
    "                             mp_drawing.DrawingSpec(color = (245,66,230), thickness = 2, circle_radius = 2))\n",
    "\n",
    "def extract_keypoints(results):\n",
    "    left_hand = np.array([[res.x,res.y,res.z] for res in results.left_hand_landmarks.landmark] ).flatten() if results.left_hand_landmarks else np.zeros(63)\n",
    "    right_hand = np.array(([[res.x,res.y,res.z] for res in results.right_hand_landmarks.landmark] )).flatten() if results.right_hand_landmarks else np.zeros(63)\n",
    "    return np.concatenate([left_hand,right_hand])"
   ]
  },
  {
   "cell_type": "code",
   "execution_count": 7,
   "id": "fd8b28a9",
   "metadata": {},
   "outputs": [],
   "source": [
    "model = keras.models.load_model(r'E:\\M.Tech\\Dissertation Stage 2 - Final\\Experimental\\Final Character\\Perfect_28_Character_Lrelu.h5')"
   ]
  },
  {
   "cell_type": "code",
   "execution_count": 78,
   "id": "3e82b8ba",
   "metadata": {},
   "outputs": [],
   "source": [
    "tt = {0:'A',1:'B',2:'C',3:'D',4:'E',\n",
    "     5:'F',6:'G',7:'H',8:'I',9:'J',\n",
    "     10:'K',11:'L',12:'M',13:'N',14:'O',\n",
    "     15:'P',16:'Q',17:'R',18:'',19:'S',\n",
    "     20:' ',21:'T',22:'U',23:'V',24:'W',\n",
    "     25:'X',26:'Y',27:'Z'}\n",
    "\n",
    "def pred(test_path):\n",
    "    #test_path = np.load(test_path)\n",
    "    x = model.predict(test_path.reshape(-1,126))\n",
    "    return tt[np.argmax(x)]\n",
    "    #op = floor(x[0])"
   ]
  },
  {
   "cell_type": "code",
   "execution_count": 37,
   "id": "68dbe59e",
   "metadata": {},
   "outputs": [],
   "source": [
    "def speak(word):\n",
    "    engine = pyttsx3.init()\n",
    "    voices = engine.getProperty('voices')\n",
    "    engine.setProperty('voices',voices[0].id)\n",
    "    engine.setProperty('rate',150)\n",
    "    engine.say(word)\n",
    "    engine.runAndWait()\n"
   ]
  },
  {
   "cell_type": "code",
   "execution_count": 89,
   "id": "ff209b5f",
   "metadata": {},
   "outputs": [],
   "source": [
    "char = []\n",
    "word = []\n",
    "frames = 0\n",
    "cap = cv2.VideoCapture(0)\n",
    "with mp_holistic.Holistic(min_detection_confidence = 0.5, min_tracking_confidence = 0.4) as holistic:\n",
    "    \n",
    "    while True: \n",
    "        \n",
    "        _,frame = cap.read()\n",
    "        image,results = mediapipe_detection(frame,holistic)\n",
    "        draw_styled_landmarks(image,results)\n",
    "        \n",
    "\n",
    "        #cv2.imshow(\"sign_videos\",image)\n",
    "\n",
    "        keypoints = extract_keypoints(results)\n",
    "        max_frame = []\n",
    "        pp = pred(keypoints)\n",
    "        char.append(pp)\n",
    "        if len(char)>20:\n",
    "            char1 = max(char,key=char.count)\n",
    "            if len(char)>20 and char1 == '':\n",
    "                word = word[0:-1]\n",
    "                char = []\n",
    "                continue\n",
    "            elif len(char)>60 and char1 == '':\n",
    "                word= []\n",
    "                char = []\n",
    "                continue\n",
    "\n",
    "            word.append(char1)\n",
    "            char = []\n",
    "        cv2.rectangle(image,(0,0),(640,40),(0,0,0),-1)\n",
    "        cv2.putText(image,''.join(word),(3,30),cv2.FONT_HERSHEY_SIMPLEX,1,(255,255,255),1,cv2.LINE_AA)\n",
    "        #cv2.putText(image,'Image for{}'.format(pp),(15,12),cv2.FONT_HERSHEY_SIMPLEX, 0.5,(0,0,255),1,cv2.LINE_AA)\n",
    "        cv2.imshow(\"sign_videos\",image)\n",
    "\n",
    "        if cv2.waitKey(10) & 0xFF == ord('q'):\n",
    "            break\n",
    "\n",
    "cap.release()\n",
    "cv2.destroyAllWindows()"
   ]
  }
 ],
 "metadata": {
  "kernelspec": {
   "display_name": "Python 3",
   "language": "python",
   "name": "python3"
  },
  "language_info": {
   "codemirror_mode": {
    "name": "ipython",
    "version": 3
   },
   "file_extension": ".py",
   "mimetype": "text/x-python",
   "name": "python",
   "nbconvert_exporter": "python",
   "pygments_lexer": "ipython3",
   "version": "3.8.8"
  }
 },
 "nbformat": 4,
 "nbformat_minor": 5
}
